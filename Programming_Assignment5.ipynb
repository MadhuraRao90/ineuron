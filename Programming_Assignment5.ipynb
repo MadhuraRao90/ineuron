{
 "cells": [
  {
   "cell_type": "code",
   "execution_count": 3,
   "id": "4e27770a",
   "metadata": {},
   "outputs": [
    {
     "name": "stdout",
     "output_type": "stream",
     "text": [
      "enter the first number4\n",
      "enter the second number3\n",
      "lcm of the 2 numbers are : 12\n"
     ]
    }
   ],
   "source": [
    "#Q1 1.\tWrite a Python Program to Find LCM?\n",
    "\n",
    "n1=int(input(\"enter the first number\"))\n",
    "n2=int(input(\"enter the second number\"))\n",
    "\n",
    "if(n1>n2):\n",
    "    lcm=n1\n",
    "else:\n",
    "    lcm=n2\n",
    "\n",
    "while(True):\n",
    "    if (lcm%n1==0 and lcm%n2==0):\n",
    "        break\n",
    "    else:\n",
    "        lcm+=1\n",
    "\n",
    "print(\"lcm of the 2 numbers are :\",lcm)\n"
   ]
  },
  {
   "cell_type": "code",
   "execution_count": 8,
   "id": "3767fd21",
   "metadata": {},
   "outputs": [
    {
     "name": "stdout",
     "output_type": "stream",
     "text": [
      "enter the first number5\n",
      "enter the second number4\n",
      "lcm of the 2 numbers are : 20\n"
     ]
    }
   ],
   "source": [
    "n1=int(input(\"enter the first number\"))\n",
    "n2=int(input(\"enter the second number\"))\n",
    "\n",
    "if(n1>n2):\n",
    "    lcm=n1\n",
    "    \n",
    "else:\n",
    "    lcm=n2\n",
    "    \n",
    "\n",
    "while(True):\n",
    "    if (lcm%n1==0 and lcm%n2==0):\n",
    "        break\n",
    "    else:\n",
    "        lcm+=lcm\n",
    "\n",
    "print(\"lcm of the 2 numbers are :\",lcm)"
   ]
  },
  {
   "cell_type": "code",
   "execution_count": 4,
   "id": "912d6ebc",
   "metadata": {},
   "outputs": [
    {
     "name": "stdout",
     "output_type": "stream",
     "text": [
      "enter the first input5\n",
      "enter the second input5\n",
      "gcd of 2 numbers is : 5\n"
     ]
    }
   ],
   "source": [
    "# 2.\tWrite a Python Program to Find HCF?\n",
    "n1=int(input(\"enter the first input\"))\n",
    "n2=int(input(\"enter the second input\"))\n",
    "\n",
    "hcf=min(n1,n2)\n",
    "\n",
    "while(True):\n",
    "    if n1%hcf==0 and n2%hcf==0:\n",
    "        break;\n",
    "    else:\n",
    "        hcf-=1\n",
    "        \n",
    "print(\"gcd of 2 numbers is :\",hcf)\n",
    "        "
   ]
  },
  {
   "cell_type": "code",
   "execution_count": 7,
   "id": "4e8d794c",
   "metadata": {},
   "outputs": [
    {
     "name": "stdout",
     "output_type": "stream",
     "text": [
      "enter the 1st number9\n",
      "enter the 2nd number13\n"
     ]
    },
    {
     "data": {
      "text/plain": [
       "1"
      ]
     },
     "execution_count": 7,
     "metadata": {},
     "output_type": "execute_result"
    }
   ],
   "source": [
    "# using recursive approach\n",
    "\n",
    "def hcf(a,b):\n",
    "    \n",
    "    if (a==0 or b==0):\n",
    "        return 0\n",
    "    elif a==b:\n",
    "        return a\n",
    "    else:\n",
    "        if(a>b):\n",
    "            return hcf(a-b,b)\n",
    "        else:\n",
    "            return hcf(a,b-a)\n",
    "a=int(input(\"enter the 1st number\"))\n",
    "b=int(input(\"enter the 2nd number\"))\n",
    "\n",
    "hcf(a,b)\n",
    "        "
   ]
  },
  {
   "cell_type": "code",
   "execution_count": 27,
   "id": "60039f6b",
   "metadata": {},
   "outputs": [],
   "source": [
    "#3.\tWrite a Python Program to Convert Decimal to Binary, Octal and Hexadecimal?\n",
    "\n",
    "# decimal to binary, octal\n",
    "import math\n",
    "\n",
    "def convert(a,c):\n",
    "    l=[]\n",
    "    div=int(a)\n",
    "    if c.lower()==\"binary\":\n",
    "        \n",
    "        while(div):\n",
    "            \n",
    "            b=div % 2\n",
    "            div=(div//2)\n",
    "            l.insert(0,str(b))\n",
    "    elif c.lower()==\"octal\":\n",
    "        while(div):\n",
    "            div,b=divmod(div,8)\n",
    "            l.insert(0,str(b))\n",
    "    elif c.lower()==\"hexadecimal\":\n",
    "        hex_dict={10:'A',11:'B',12:'C',13:'D',14:'E',15:'F'}\n",
    "        while(div):\n",
    "            div,b=divmod(div,16)\n",
    "            if b<10:\n",
    "                l.insert(0,str(b))\n",
    "            else:\n",
    "                l.insert(0,str(hex_dict[b]))\n",
    "                \n",
    "            \n",
    "    return \"\".join(l)\n",
    "\n",
    "    \n",
    "        "
   ]
  },
  {
   "cell_type": "code",
   "execution_count": 28,
   "id": "96ef3297",
   "metadata": {},
   "outputs": [
    {
     "data": {
      "text/plain": [
       "'1100100'"
      ]
     },
     "execution_count": 28,
     "metadata": {},
     "output_type": "execute_result"
    }
   ],
   "source": [
    "convert(100,\"binary\")"
   ]
  },
  {
   "cell_type": "code",
   "execution_count": 29,
   "id": "cc4d95fb",
   "metadata": {},
   "outputs": [
    {
     "data": {
      "text/plain": [
       "'236'"
      ]
     },
     "execution_count": 29,
     "metadata": {},
     "output_type": "execute_result"
    }
   ],
   "source": [
    "convert(158,\"Octal\")"
   ]
  },
  {
   "cell_type": "code",
   "execution_count": 30,
   "id": "a455d722",
   "metadata": {},
   "outputs": [
    {
     "data": {
      "text/plain": [
       "'1EF'"
      ]
     },
     "execution_count": 30,
     "metadata": {},
     "output_type": "execute_result"
    }
   ],
   "source": [
    "convert(495,\"Hexadecimal\")"
   ]
  },
  {
   "cell_type": "code",
   "execution_count": 33,
   "id": "4c879dd5",
   "metadata": {},
   "outputs": [
    {
     "name": "stdout",
     "output_type": "stream",
     "text": [
      "enter the characters\n",
      "the ASCII value of the character s is t\n"
     ]
    }
   ],
   "source": [
    "#4.\tWrite a Python Program To Find ASCII value of a character?\n",
    "a= input(\"enter the character\")\n",
    "\n",
    "print(\"the ASCII value of the character {} is {}\".format(a,chr(ord(a)+1)))"
   ]
  },
  {
   "cell_type": "code",
   "execution_count": 34,
   "id": "27177fd6",
   "metadata": {},
   "outputs": [
    {
     "data": {
      "text/plain": [
       "5"
      ]
     },
     "execution_count": 34,
     "metadata": {},
     "output_type": "execute_result"
    }
   ],
   "source": [
    "#5.\tWrite a Python Program to Make a Simple Calculator with 4 basic mathematical operations?\n",
    "\n",
    "def cal(a,b,c):\n",
    "    if c=='+':\n",
    "        return a+b\n",
    "    elif c=='-':\n",
    "        return a-b\n",
    "    elif c=='*':\n",
    "        return a*b\n",
    "    elif c=='/':\n",
    "        return a/b\n",
    "    else:\n",
    "        print(\" the operator is not recognized by the system\")\n",
    "cal(2,3,'+')"
   ]
  },
  {
   "cell_type": "code",
   "execution_count": 35,
   "id": "b611f247",
   "metadata": {},
   "outputs": [
    {
     "data": {
      "text/plain": [
       "0.9"
      ]
     },
     "execution_count": 35,
     "metadata": {},
     "output_type": "execute_result"
    }
   ],
   "source": [
    "cal(9,10,'/')"
   ]
  },
  {
   "cell_type": "code",
   "execution_count": null,
   "id": "c41cd755",
   "metadata": {},
   "outputs": [],
   "source": []
  }
 ],
 "metadata": {
  "kernelspec": {
   "display_name": "Python 3 (ipykernel)",
   "language": "python",
   "name": "python3"
  },
  "language_info": {
   "codemirror_mode": {
    "name": "ipython",
    "version": 3
   },
   "file_extension": ".py",
   "mimetype": "text/x-python",
   "name": "python",
   "nbconvert_exporter": "python",
   "pygments_lexer": "ipython3",
   "version": "3.9.7"
  }
 },
 "nbformat": 4,
 "nbformat_minor": 5
}
