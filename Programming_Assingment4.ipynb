{
 "cells": [
  {
   "cell_type": "code",
   "execution_count": 2,
   "id": "0894c9d8",
   "metadata": {},
   "outputs": [
    {
     "name": "stdout",
     "output_type": "stream",
     "text": [
      "enter the number5\n",
      "factorial of a number is  120\n"
     ]
    }
   ],
   "source": [
    "#Q1.Write a Python Program to Find the Factorial of a Number?\n",
    "\n",
    "num=int(input(\"enter the number\"))\n",
    "fact=1\n",
    "for i in range(1,num+1):\n",
    "    fact*=i\n",
    "print(\"factorial of a number is \",fact)"
   ]
  },
  {
   "cell_type": "code",
   "execution_count": 3,
   "id": "63b15526",
   "metadata": {},
   "outputs": [
    {
     "name": "stdout",
     "output_type": "stream",
     "text": [
      "enter the number for which you need to display the table12\n",
      "12*1= 12\n",
      "12*2= 24\n",
      "12*3= 36\n",
      "12*4= 48\n",
      "12*5= 60\n",
      "12*6= 72\n",
      "12*7= 84\n",
      "12*8= 96\n",
      "12*9= 108\n",
      "12*10= 120\n"
     ]
    }
   ],
   "source": [
    "#Q2. Write a Python Program to Display the multiplication Table?\n",
    "\n",
    "num=int(input(\"enter the number for which you need to display the table\"))\n",
    "\n",
    "for i in range(1,11):\n",
    "    print(str(num)+\"*\"+str(i)+\"=\",num*i)"
   ]
  },
  {
   "cell_type": "code",
   "execution_count": 7,
   "id": "dd67f5c7",
   "metadata": {},
   "outputs": [
    {
     "name": "stdout",
     "output_type": "stream",
     "text": [
      "enter the number of fibonacci sequesnce required6\n",
      "[0, 1, 1, 2, 3, 5]\n"
     ]
    }
   ],
   "source": [
    "#Q3 Write a Python Program to Print the Fibonacci sequence?\n",
    "num=int(input(\"enter the number of fibonacci sequesnce required\"))\n",
    "a=0\n",
    "b=1\n",
    "lst=[]\n",
    "for i in range(0,num):\n",
    "    lst.append(a)\n",
    "    a,b=b,a+b\n",
    "    \n",
    "print(lst)\n",
    "    "
   ]
  },
  {
   "cell_type": "code",
   "execution_count": 6,
   "id": "6f92cd13",
   "metadata": {},
   "outputs": [
    {
     "name": "stdout",
     "output_type": "stream",
     "text": [
      "enter the number153\n",
      "yes its an armstrong number\n"
     ]
    }
   ],
   "source": [
    "#Q4 Write a Python Program to Check Armstrong Number?\n",
    "arm_num=input(\"enter the number\")\n",
    "\n",
    "num=int(arm_num)\n",
    "lst=list(arm_num)\n",
    "sum=0\n",
    "for i in lst:\n",
    "    sum+=int(i)**3\n",
    "if(sum==num):\n",
    "    print(\"yes its an armstrong number\")\n",
    "else:\n",
    "    print(\"no its not an armstrong number\")"
   ]
  },
  {
   "cell_type": "code",
   "execution_count": 10,
   "id": "db857b3b",
   "metadata": {},
   "outputs": [
    {
     "name": "stdout",
     "output_type": "stream",
     "text": [
      "enter the first number of the interval100\n",
      "enter the second number of the interval200\n",
      "the armstrong numbers in the interval, 100 200  are  [153]\n"
     ]
    }
   ],
   "source": [
    "num1=int(input(\"enter the first number of the interval\"))\n",
    "num2=int(input(\"enter the second number of the interval\"))\n",
    "armstrong_numbers=[]\n",
    "for i in range(num1,num2):\n",
    "    sum=0\n",
    "    str_num=str(i)\n",
    "    lst=list(str_num)\n",
    "    for j in lst:\n",
    "        sum+=int(j)**3\n",
    "    if(sum==i):\n",
    "        armstrong_numbers.append(i)\n",
    "print(\"the armstrong numbers in the interval,\",num1,num2,\" are \",armstrong_numbers)"
   ]
  },
  {
   "cell_type": "code",
   "execution_count": 12,
   "id": "1e7042a1",
   "metadata": {},
   "outputs": [
    {
     "name": "stdout",
     "output_type": "stream",
     "text": [
      "enter the number4\n",
      "the sum of natural numbers is : 10\n"
     ]
    }
   ],
   "source": [
    "num = int(input(\"enter the number\"))\n",
    "sum1=0\n",
    "while(num>0):\n",
    "    sum1+=num\n",
    "    num-=1\n",
    "print(\"the sum of natural numbers is :\", sum1)"
   ]
  },
  {
   "cell_type": "code",
   "execution_count": null,
   "id": "a724fc1f",
   "metadata": {},
   "outputs": [],
   "source": []
  }
 ],
 "metadata": {
  "kernelspec": {
   "display_name": "Python 3 (ipykernel)",
   "language": "python",
   "name": "python3"
  },
  "language_info": {
   "codemirror_mode": {
    "name": "ipython",
    "version": 3
   },
   "file_extension": ".py",
   "mimetype": "text/x-python",
   "name": "python",
   "nbconvert_exporter": "python",
   "pygments_lexer": "ipython3",
   "version": "3.9.7"
  }
 },
 "nbformat": 4,
 "nbformat_minor": 5
}
