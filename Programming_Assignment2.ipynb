{
 "cells": [
  {
   "cell_type": "code",
   "execution_count": 3,
   "id": "dc9f227b",
   "metadata": {},
   "outputs": [
    {
     "name": "stdout",
     "output_type": "stream",
     "text": [
      " enter the value in kilometers10\n"
     ]
    }
   ],
   "source": [
    "# Q1 Write a Python program to convert kilometers to miles?\n",
    "a=int(input(\" enter the value in kilometers\"))"
   ]
  },
  {
   "cell_type": "code",
   "execution_count": 4,
   "id": "a9330a75",
   "metadata": {},
   "outputs": [
    {
     "name": "stdout",
     "output_type": "stream",
     "text": [
      "value in miles is : 6.2\n"
     ]
    }
   ],
   "source": [
    "print(\"value in miles is :\",a*0.62)"
   ]
  },
  {
   "cell_type": "code",
   "execution_count": 6,
   "id": "f6100d27",
   "metadata": {},
   "outputs": [
    {
     "name": "stdout",
     "output_type": "stream",
     "text": [
      "enter the value in celcius32\n"
     ]
    }
   ],
   "source": [
    "# Q2 Write a Python program to convert Celsius to Fahrenheit?\n",
    " \n",
    "cel= float(input(\"enter the value in celcius\"))\n",
    "\n"
   ]
  },
  {
   "cell_type": "code",
   "execution_count": 7,
   "id": "3ec71779",
   "metadata": {},
   "outputs": [
    {
     "name": "stdout",
     "output_type": "stream",
     "text": [
      "the value in faranheit is:  89.6\n"
     ]
    }
   ],
   "source": [
    "far=((cel*9)/5)+32\n",
    "\n",
    "print(\"the value in faranheit is: \",far)"
   ]
  },
  {
   "cell_type": "code",
   "execution_count": 8,
   "id": "b815b685",
   "metadata": {},
   "outputs": [
    {
     "name": "stdout",
     "output_type": "stream",
     "text": [
      "enter the year2022\n",
      "enter the month 04\n",
      "     April 2022\n",
      "Mo Tu We Th Fr Sa Su\n",
      "             1  2  3\n",
      " 4  5  6  7  8  9 10\n",
      "11 12 13 14 15 16 17\n",
      "18 19 20 21 22 23 24\n",
      "25 26 27 28 29 30\n",
      "\n"
     ]
    }
   ],
   "source": [
    "# Q3 Write a Python program to display calendar?\n",
    "\n",
    "# if for month and year den import calendar \n",
    "\n",
    "import calendar\n",
    "\n",
    "yy= int(input(\"enter the year\"))\n",
    "\n",
    "mm= int(input(\"enter the month \"))\n",
    "\n",
    "print(calendar.month(yy,mm))"
   ]
  },
  {
   "cell_type": "code",
   "execution_count": 9,
   "id": "3ba0a577",
   "metadata": {},
   "outputs": [
    {
     "name": "stdout",
     "output_type": "stream",
     "text": [
      "enter the year2022\n",
      "                                  2022\n",
      "\n",
      "      January                   February                   March\n",
      "Mo Tu We Th Fr Sa Su      Mo Tu We Th Fr Sa Su      Mo Tu We Th Fr Sa Su\n",
      "                1  2          1  2  3  4  5  6          1  2  3  4  5  6\n",
      " 3  4  5  6  7  8  9       7  8  9 10 11 12 13       7  8  9 10 11 12 13\n",
      "10 11 12 13 14 15 16      14 15 16 17 18 19 20      14 15 16 17 18 19 20\n",
      "17 18 19 20 21 22 23      21 22 23 24 25 26 27      21 22 23 24 25 26 27\n",
      "24 25 26 27 28 29 30      28                        28 29 30 31\n",
      "31\n",
      "\n",
      "       April                      May                       June\n",
      "Mo Tu We Th Fr Sa Su      Mo Tu We Th Fr Sa Su      Mo Tu We Th Fr Sa Su\n",
      "             1  2  3                         1             1  2  3  4  5\n",
      " 4  5  6  7  8  9 10       2  3  4  5  6  7  8       6  7  8  9 10 11 12\n",
      "11 12 13 14 15 16 17       9 10 11 12 13 14 15      13 14 15 16 17 18 19\n",
      "18 19 20 21 22 23 24      16 17 18 19 20 21 22      20 21 22 23 24 25 26\n",
      "25 26 27 28 29 30         23 24 25 26 27 28 29      27 28 29 30\n",
      "                          30 31\n",
      "\n",
      "        July                     August                  September\n",
      "Mo Tu We Th Fr Sa Su      Mo Tu We Th Fr Sa Su      Mo Tu We Th Fr Sa Su\n",
      "             1  2  3       1  2  3  4  5  6  7                1  2  3  4\n",
      " 4  5  6  7  8  9 10       8  9 10 11 12 13 14       5  6  7  8  9 10 11\n",
      "11 12 13 14 15 16 17      15 16 17 18 19 20 21      12 13 14 15 16 17 18\n",
      "18 19 20 21 22 23 24      22 23 24 25 26 27 28      19 20 21 22 23 24 25\n",
      "25 26 27 28 29 30 31      29 30 31                  26 27 28 29 30\n",
      "\n",
      "      October                   November                  December\n",
      "Mo Tu We Th Fr Sa Su      Mo Tu We Th Fr Sa Su      Mo Tu We Th Fr Sa Su\n",
      "                1  2          1  2  3  4  5  6                1  2  3  4\n",
      " 3  4  5  6  7  8  9       7  8  9 10 11 12 13       5  6  7  8  9 10 11\n",
      "10 11 12 13 14 15 16      14 15 16 17 18 19 20      12 13 14 15 16 17 18\n",
      "17 18 19 20 21 22 23      21 22 23 24 25 26 27      19 20 21 22 23 24 25\n",
      "24 25 26 27 28 29 30      28 29 30                  26 27 28 29 30 31\n",
      "31\n",
      "\n"
     ]
    }
   ],
   "source": [
    "# if display the entire calendar of the year\n",
    "\n",
    "import calendar \n",
    "\n",
    "yy=int(input(\"enter the year\"))\n",
    "\n",
    "print(calendar.calendar(yy))"
   ]
  },
  {
   "cell_type": "code",
   "execution_count": 1,
   "id": "28e1ed84",
   "metadata": {},
   "outputs": [
    {
     "name": "stdout",
     "output_type": "stream",
     "text": [
      "value of a8\n",
      "value of b5\n",
      "value of c9\n"
     ]
    }
   ],
   "source": [
    "\n",
    "#Write a Python program to solve quadratic equation?\n",
    "import cmath\n",
    "a=float(input(\"value of a\"))\n",
    "b=float(input(\"value of b\"))\n",
    "c=float(input(\"value of c\"))"
   ]
  },
  {
   "cell_type": "code",
   "execution_count": 5,
   "id": "0c723599",
   "metadata": {},
   "outputs": [],
   "source": [
    "d=cmath.sqrt(b**2-4*a*c)\n"
   ]
  },
  {
   "cell_type": "code",
   "execution_count": 8,
   "id": "a833082e",
   "metadata": {},
   "outputs": [
    {
     "name": "stdout",
     "output_type": "stream",
     "text": [
      " the 2 solutions of quadratic eqns are :  (-0.3125+1.0135796712641785j) (-0.3125-1.0135796712641785j)\n"
     ]
    }
   ],
   "source": [
    "sol1=(-b+d)/(2*a)\n",
    "sol2=(-b-d)/(2*a)\n",
    "print(\" the 2 solutions of quadratic eqns are : \",sol1, sol2)"
   ]
  },
  {
   "cell_type": "code",
   "execution_count": 10,
   "id": "c7cd5bb3",
   "metadata": {},
   "outputs": [
    {
     "name": "stdout",
     "output_type": "stream",
     "text": [
      "enter the value of a10\n",
      "enter the value of b12\n",
      "values of a and b before swapping :  10 12\n",
      "values of a and b respectively after swapping :  12 10\n"
     ]
    }
   ],
   "source": [
    "#Write a Python program to swap two variables without temp variable?\n",
    "a= int(input(\"enter the value of a\"))\n",
    "b=int(input(\"enter the value of b\"))\n",
    "print(\"values of a and b before swapping : \",a,b)\n",
    "a=a+b\n",
    "b=a-b\n",
    "a=a-b\n",
    "\n",
    "print(\"values of a and b respectively after swapping : \",a,b)"
   ]
  },
  {
   "cell_type": "code",
   "execution_count": null,
   "id": "248ffd6f",
   "metadata": {},
   "outputs": [],
   "source": []
  }
 ],
 "metadata": {
  "kernelspec": {
   "display_name": "Python 3 (ipykernel)",
   "language": "python",
   "name": "python3"
  },
  "language_info": {
   "codemirror_mode": {
    "name": "ipython",
    "version": 3
   },
   "file_extension": ".py",
   "mimetype": "text/x-python",
   "name": "python",
   "nbconvert_exporter": "python",
   "pygments_lexer": "ipython3",
   "version": "3.9.7"
  }
 },
 "nbformat": 4,
 "nbformat_minor": 5
}
